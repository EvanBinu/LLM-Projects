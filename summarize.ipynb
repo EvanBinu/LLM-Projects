{
 "cells": [
  {
   "cell_type": "markdown",
   "metadata": {},
   "source": [
    "# Summarize Webiste Model"
   ]
  },
  {
   "cell_type": "markdown",
   "metadata": {},
   "source": [
    "### I created a LLM model using ollama that summarizes any website and gives you some details about it. "
   ]
  },
  {
   "cell_type": "markdown",
   "metadata": {},
   "source": [
    "### Importing\n",
    "- `os`: Access environment variables and interact with the operating system.\n",
    "- `requests`: Send HTTP requests (GET, POST, etc.).\n",
    "- `from dotenv import load_dotenv`: Loads environment variables from a .env file into your system environment.\n",
    "- `BeautifulSoup`: Parse and extract data from HTML and XML documents.\n",
    "- `from IPython.display import Markdown, display`: Rich display in Jupyter Notebooks."
   ]
  },
  {
   "cell_type": "code",
   "execution_count": 1,
   "metadata": {},
   "outputs": [],
   "source": [
    "# imports\n",
    "import os\n",
    "import requests\n",
    "from dotenv import load_dotenv\n",
    "from bs4 import BeautifulSoup\n",
    "from IPython.display import Markdown, display\n",
    "from openai import OpenAI"
   ]
  },
  {
   "cell_type": "code",
   "execution_count": 2,
   "metadata": {},
   "outputs": [],
   "source": [
    "openai = OpenAI(base_url='http://localhost:11434/v1', api_key='ollama')"
   ]
  },
  {
   "cell_type": "code",
   "execution_count": 13,
   "metadata": {},
   "outputs": [
    {
     "name": "stdout",
     "output_type": "stream",
     "text": [
      "Hi there! It's great to meet you for the first time! I'm Llama, your friendly AI assistant, and I'm here to help with any questions or topics you'd like to discuss. How's your day going so far? Is there something specific on your mind that you'd like to talk about, or do you just want to get to know me a bit better? I'm all ears (or rather, all text)!\n"
     ]
    }
   ],
   "source": [
    "## testing\n",
    "message = \"Hello, Llama! This is my first ever message to you! Hi!\"\n",
    "response = openai.chat.completions.create(model=\"llama3.2\", messages=[{\"role\":\"user\", \"content\":message}])\n",
    "print(response.choices[0].message.content)"
   ]
  },
  {
   "cell_type": "markdown",
   "metadata": {},
   "source": [
    "## Types of prompts\n",
    "\n",
    "**A system prompt** that tells them what task they are performing and what tone they should use\n",
    "\n",
    "**A user prompt** -- the conversation starter that they should reply to"
   ]
  },
  {
   "cell_type": "code",
   "execution_count": 5,
   "metadata": {},
   "outputs": [],
   "source": [
    "system_prompt = \"You are an assistant that analyzes the contents of a website \\\n",
    "and provides a short summary, ignoring text that might be navigation related. \\\n",
    "Respond in markdown.\""
   ]
  },
  {
   "cell_type": "code",
   "execution_count": 4,
   "metadata": {},
   "outputs": [],
   "source": [
    "headers = {\n",
    " \"User-Agent\": \"Mozilla/5.0 (Windows NT 10.0; Win64; x64) AppleWebKit/537.36 (KHTML, like Gecko) Chrome/117.0.0.0 Safari/537.36\"\n",
    "}\n",
    "\n",
    "class Website:\n",
    "\n",
    "    def __init__(self, url):\n",
    "        \"\"\"\n",
    "        Create this Website object from the given url using the BeautifulSoup library\n",
    "        \"\"\"\n",
    "        self.url = url\n",
    "        response = requests.get(url, headers=headers)\n",
    "        soup = BeautifulSoup(response.content, 'html.parser')\n",
    "        self.title = soup.title.string if soup.title else \"No title found\"\n",
    "        for irrelevant in soup.body([\"script\", \"style\", \"img\", \"input\"]):\n",
    "            irrelevant.decompose()\n",
    "        self.text = soup.body.get_text(separator=\"\\n\", strip=True)"
   ]
  },
  {
   "cell_type": "code",
   "execution_count": 6,
   "metadata": {},
   "outputs": [],
   "source": [
    "def user_prompt_for(website):\n",
    "    user_prompt = f\"You are looking at a website titled {website.title}\"\n",
    "    user_prompt += \"\\nThe contents of this website is as follows; \\\n",
    "please provide a short summary of this website in markdown. \\\n",
    "If it includes news or announcements, then summarize these too.\\n\\n\"\n",
    "    user_prompt += website.text\n",
    "    return user_prompt"
   ]
  },
  {
   "cell_type": "code",
   "execution_count": 8,
   "metadata": {},
   "outputs": [],
   "source": [
    "def messages_for(website):\n",
    "    return [\n",
    "        {\"role\": \"system\", \"content\": system_prompt},\n",
    "        {\"role\": \"user\", \"content\": user_prompt_for(website)}\n",
    "    ]"
   ]
  },
  {
   "cell_type": "code",
   "execution_count": 9,
   "metadata": {},
   "outputs": [],
   "source": [
    "def summarize(url):\n",
    "    website = Website(url)\n",
    "    response = openai.chat.completions.create(\n",
    "        model = \"llama3.2\",\n",
    "        messages = messages_for(website)\n",
    "    )\n",
    "    return response.choices[0].message.content"
   ]
  },
  {
   "cell_type": "code",
   "execution_count": 10,
   "metadata": {},
   "outputs": [],
   "source": [
    "def display_summary(url):\n",
    "    summary = summarize(url)\n",
    "    display(Markdown(summary))"
   ]
  },
  {
   "cell_type": "code",
   "execution_count": 11,
   "metadata": {},
   "outputs": [
    {
     "data": {
      "text/markdown": [
       "### Short Summary of YouTube Website\n",
       "\n",
       "#### Purpose and Functionality\n",
       "\n",
       "YouTube is a video-sharing platform where users can upload, share, and view videos.\n",
       "\n",
       "#### Overview of Available Sections\n",
       "\n",
       "The website provides information on:\n",
       "\n",
       "* **About**: Foundational information about the company and its mission.\n",
       "* **Press**: Updates and news for media professionals covering YouTube and Google.\n",
       "* **Copyright**: Information on copyright policies and procedures.\n",
       "* **Contact us**: Details for getting in touch with YouTube team or customer support.\n",
       "* **Creator**: Resources specifically for content creators, including tutorials and guidelines.\n",
       "* **Advertise**: Commercial opportunities for brands to promote their products on the platform.\n",
       "\n",
       "#### Technical and Business Details\n",
       "\n",
       "The website also includes information on:\n",
       "\n",
       "* **Developers**: Documentation and APIs for developers building applications connected with YouTube.\n",
       "* **Terms**: Legal agreements users must agree to when using the service.\n",
       "* **Privacy**: Information on how YouTube collects, uses, and protects user data.\n"
      ],
      "text/plain": [
       "<IPython.core.display.Markdown object>"
      ]
     },
     "metadata": {},
     "output_type": "display_data"
    }
   ],
   "source": [
    "display_summary(\"https://www.youtube.com/\")"
   ]
  },
  {
   "cell_type": "code",
   "execution_count": 12,
   "metadata": {},
   "outputs": [
    {
     "data": {
      "text/markdown": [
       "**Summary**\n",
       "\n",
       "LinkedIn is a professional networking platform where users can create profiles, connect with colleagues and friends, share articles, find job opportunities, take courses, play games, and keep up-to-date on industry news.\n",
       "\n",
       "### News Announcements\n",
       "\n",
       "* LinkedIn announced the launch of its new \"Open to Work\" feature, allowing users to privately indicate that they are open to new job opportunities.\n",
       "* The platform introduced a new AI-powered feature to unlock community knowledge in collaborative articles.\n",
       "* Users can now discover and explore software tools for businesses on LinkedIn.\n",
       "\n",
       "### Features and Areas\n",
       "\n",
       "* **Job Search**: Post job openings or search for a new role with millions of people's resumes at your fingertips.\n",
       "* **Learning**: Take online courses in various topics, from business development to web design, to upskill and reskill.\n",
       "* **Networking**: Connect with colleagues, classmates, and friends on LinkedIn, and stay up-to-date on industry news through articles, messages, and live videos.\n",
       "* **Business Solutions**: Access resources, tools, and insights for businesses of all sizes.\n",
       "\n",
       "### Languages\n",
       "\n",
       "LinkedIn is available in multiple languages, including Arabic, Bengali, Czech, Danish, English, Spanish, French, and more."
      ],
      "text/plain": [
       "<IPython.core.display.Markdown object>"
      ]
     },
     "metadata": {},
     "output_type": "display_data"
    }
   ],
   "source": [
    "display_summary(\"https://www.linkedin.com/\")"
   ]
  },
  {
   "cell_type": "code",
   "execution_count": null,
   "metadata": {},
   "outputs": [],
   "source": []
  }
 ],
 "metadata": {
  "kernelspec": {
   "display_name": "Python 3 (ipykernel)",
   "language": "python",
   "name": "python3"
  },
  "language_info": {
   "codemirror_mode": {
    "name": "ipython",
    "version": 3
   },
   "file_extension": ".py",
   "mimetype": "text/x-python",
   "name": "python",
   "nbconvert_exporter": "python",
   "pygments_lexer": "ipython3",
   "version": "3.12.3"
  }
 },
 "nbformat": 4,
 "nbformat_minor": 4
}
